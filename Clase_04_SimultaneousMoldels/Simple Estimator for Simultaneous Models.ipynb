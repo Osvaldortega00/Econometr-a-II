{
 "cells": [
  {
   "cell_type": "markdown",
   "metadata": {},
   "source": [
    "# Ejemplo de Sistemas de Ecuaciones"
   ]
  },
  {
   "cell_type": "markdown",
   "metadata": {},
   "source": [
    "## Planteamiento:\n",
    "\n",
    "Asumimos que tenemos observaciones de corte transversal independienntes e idénticamente distribuidas:\n",
    "\\begin{equation*}\n",
    "    \\{ \\mathbf{X}_i , \\mathbf{Y}_i ; i = 1, 2, \\ldots, N \\}\n",
    "\\end{equation*}\n",
    "\n",
    "Donde $\\mathbf{X}_i$ es una matriz $G \\times K$ y $\\mathbf{Y}_i$ es un vector $G \\times 1$. Así, la matriz $\\mathbf{X}_i$ continene todas las variables explicativas que aparecen en el sistema, para cada uno de los individuos indexados $i$:\n",
    "\\begin{equation}\n",
    "    \\mathbf{Y}_i = \\mathbf{Y}_i \\boldsymbol{\\beta} + \\boldsymbol{\\varepsilon}_i\n",
    "    \\label{Sist_Eqn_G}\n",
    "\\end{equation}\n",
    "\n",
    "Donde $\\boldsymbol{\\beta}$ es un vector $K \\times 1$ y $\\boldsymbol{\\varepsilon}_i$ es un vector $G \\times 1$. De esta forma en general tendríamos:\n",
    "\\begin{equation*}\n",
    "    \\mathbf{Y}_i = \n",
    "    \\begin{bmatrix}\n",
    "    y_{i1} \\\\\n",
    "    y_{i2} \\\\\n",
    "    \\vdots \\\\\n",
    "    y_{iG}\n",
    "    \\end{bmatrix}\n",
    "\\end{equation*}\n",
    "\n",
    "\\begin{equation*}\n",
    "    \\boldsymbol{\\varepsilon}_i = \n",
    "    \\begin{bmatrix}\n",
    "    \\varepsilon_{i1} \\\\\n",
    "    \\varepsilon_{i2} \\\\\n",
    "    \\vdots \\\\\n",
    "    \\varepsilon_{iG}\n",
    "    \\end{bmatrix}\n",
    "\\end{equation*}\n",
    "\n",
    "Donde $i = 1, 2, \\ldots, N$. \n",
    "\\begin{equation*}\n",
    "    \\boldsymbol{\\beta} = \n",
    "    \\begin{bmatrix}\n",
    "    \\boldsymbol{\\beta}_{1} \\\\\n",
    "    \\boldsymbol{\\beta}_{2} \\\\\n",
    "    \\vdots \\\\\n",
    "    \\boldsymbol{\\beta}_{G}\n",
    "    \\end{bmatrix}\n",
    "\\end{equation*}\n",
    "\n",
    "Par el caso particular de un modelo de ecuaciones simúltneas aparentemente no relacionadas que no compartan variables explicativas:\n",
    "\\begin{equation*}\n",
    "    \\mathbf{x}_{ig} = [x_{i1}, x_{i2}, \\ldots, x_{iK_g}]\n",
    "\\end{equation*}\n",
    "\n",
    "Así, podemos proponer que la matriz $\\mathbf{X}_i$ con dimensión $G \\times (K_1 + K_2 + \\ldots + K_G)$es de la forma:\n",
    "\\begin{equation*}\n",
    "    \\mathbf{X}_i = \n",
    "    \\begin{bmatrix}\n",
    "    \\mathbf{x}_{i1} \\\\\n",
    "    \\mathbf{x}_{i2} \\\\\n",
    "    \\vdots \\\\\n",
    "    \\mathbf{x}_{iG}\n",
    "    \\end{bmatrix} \\\\\n",
    "\\end{equation*}\n"
   ]
  },
  {
   "cell_type": "markdown",
   "metadata": {},
   "source": [
    "## Estimadores:\n",
    "\n",
    "El estimador de Mínimos Cuadrados Ordinarios estará dado por:\n",
    "\\begin{eqnarray*}\n",
    "    \\hat{\\boldsymbol{\\beta}}_{OLS} & = & (\\mathbf{X}' \\mathbf{X})^{-1} \\mathbf{X}' \\mathbf{Y}\n",
    "\\end{eqnarray*}\n",
    "\n",
    "El estimador de Mínimos Cuadrados Generalizados estará dado por:\n",
    "\\begin{eqnarray*}\n",
    "    \\hat{\\boldsymbol{\\beta}}_{GLS} & = & (\\mathbf{X}' \\Sigma^{-1} \\mathbf{X})^{-1} \\mathbf{X}' \\Sigma^{-1} \\mathbf{Y}\n",
    "\\end{eqnarray*}"
   ]
  },
  {
   "cell_type": "markdown",
   "metadata": {},
   "source": [
    "## 1. Importación de bibliotecas"
   ]
  },
  {
   "cell_type": "code",
   "execution_count": null,
   "metadata": {},
   "outputs": [],
   "source": [
    "#!pip install linearmodels==4.17\n",
    "#!pip install linearmodels==4.5"
   ]
  },
  {
   "cell_type": "code",
   "execution_count": null,
   "metadata": {},
   "outputs": [],
   "source": [
    "# Common libraries\n",
    "#%matplotlib inline\n",
    "import numpy as np\n",
    "import pandas as pd\n",
    "import statsmodels.api as sm\n",
    "from linearmodels.system import SUR\n",
    "\n",
    "#\n",
    "import warnings\n",
    "warnings.filterwarnings('ignore')"
   ]
  },
  {
   "cell_type": "markdown",
   "metadata": {},
   "source": [
    "Vamos a utilizar un data set que está en la biblioteca: linearmodels"
   ]
  },
  {
   "cell_type": "code",
   "execution_count": null,
   "metadata": {},
   "outputs": [],
   "source": [
    "from linearmodels.datasets import fringe\n",
    "print(fringe.DESCR)"
   ]
  },
  {
   "cell_type": "code",
   "execution_count": null,
   "metadata": {},
   "outputs": [],
   "source": [
    "#\n",
    "fdata = fringe.load()\n",
    "fdata"
   ]
  },
  {
   "cell_type": "markdown",
   "metadata": {},
   "source": [
    "Este es un problema de simúltaneidad, en el que tenemos un sistema de ecuaciones:\n",
    "\n",
    "$Y_1 = a X + b Y_2 + \\eta$\n",
    "\n",
    "$Y_2 = a X + b Y_1 + \\nu$\n",
    "\n",
    "¿cómo proceder en este caso?... Estimamos un modelo en el que asumimos que la información omitida es capturada por un mismo tipo de error:\n",
    "\\begin{equation}\n",
    "    \\begin{bmatrix}\n",
    "    Y_1 \\\\\n",
    "    Y_2\n",
    "    \\end{bmatrix} =\n",
    "    \\begin{bmatrix}\n",
    "    X_1 \\\\\n",
    "    X_2 \n",
    "    \\end{bmatrix} +\n",
    "    \\begin{bmatrix}\n",
    "    \\varepsilon \\\\\n",
    "    \\varepsilon\n",
    "    \\end{bmatrix}\n",
    "\\end{equation}"
   ]
  },
  {
   "cell_type": "code",
   "execution_count": null,
   "metadata": {},
   "outputs": [],
   "source": [
    "# Seleccionemos nuestras variables exógenas:\n",
    "\n",
    "exog = ['educ','exper','expersq','tenure','tenuresq','union','south',\n",
    "        'nrtheast','nrthcen','married','white','male']\n",
    "\n",
    "X = sm.add_constant( fdata[exog] )\n",
    "\n",
    "X"
   ]
  },
  {
   "cell_type": "markdown",
   "metadata": {},
   "source": [
    "## 2. Estimación "
   ]
  },
  {
   "cell_type": "code",
   "execution_count": null,
   "metadata": {},
   "outputs": [],
   "source": [
    "#!pip install collections"
   ]
  },
  {
   "cell_type": "code",
   "execution_count": null,
   "metadata": {},
   "outputs": [],
   "source": [
    "# Importamos una libreria \n",
    "from collections import OrderedDict\n",
    "\n",
    "fmod_data = OrderedDict()\n",
    "fmod_data['hrearn'] = {'dependent': fdata.hrearn, 'exog': X}\n",
    "fmod_data['hrbens'] = {'dependent': fdata.hrbens, 'exog': X}\n",
    "fmod = SUR(fmod_data)"
   ]
  },
  {
   "cell_type": "code",
   "execution_count": null,
   "metadata": {},
   "outputs": [],
   "source": [
    "print(fmod.fit(cov_type = 'unadjusted'))"
   ]
  },
  {
   "cell_type": "code",
   "execution_count": null,
   "metadata": {},
   "outputs": [],
   "source": [
    "print(fmod.fit(method = 'gls', cov_type = 'unadjusted'))"
   ]
  },
  {
   "cell_type": "markdown",
   "metadata": {},
   "source": [
    "## 3. ¿Qué pasa cuando los regresores difieren en algunas variables?\n",
    "\n",
    "\\begin{equation}\n",
    "    \\begin{bmatrix}\n",
    "    Y_1 \\\\\n",
    "    Y_2\n",
    "    \\end{bmatrix} =\n",
    "    \\begin{bmatrix}\n",
    "    X_1 & 0 & Z_1\\\\\n",
    "    0 & X_2 & Z_2\n",
    "    \\end{bmatrix} +\n",
    "    \\begin{bmatrix}\n",
    "    \\varepsilon \\\\\n",
    "    \\varepsilon\n",
    "    \\end{bmatrix}\n",
    "\\end{equation}"
   ]
  },
  {
   "cell_type": "code",
   "execution_count": null,
   "metadata": {},
   "outputs": [],
   "source": [
    "# Definimos dos set de regresores\n",
    "exog_earn = ['educ','exper','expersq','union','nrtheast','white']\n",
    "exog_bens = ['educ','exper','expersq','tenure','tenuresq','union','male']\n",
    "\n",
    "#\n",
    "X_1 = sm.add_constant(fdata[ exog_earn ])\n",
    "X_2 = sm.add_constant(fdata[ exog_bens ])\n",
    "\n",
    "#\n",
    "fmod_data['hrearn'] = {'dependent': fdata.hrearn, 'exog': X_1}\n",
    "fmod_data['hrbens'] = {'dependent': fdata.hrbens, 'exog': X_2}\n",
    "fmod = SUR(fmod_data)"
   ]
  },
  {
   "cell_type": "code",
   "execution_count": null,
   "metadata": {},
   "outputs": [],
   "source": [
    "print(fmod.fit(cov_type = 'unadjusted'))"
   ]
  },
  {
   "cell_type": "code",
   "execution_count": null,
   "metadata": {},
   "outputs": [],
   "source": [
    "fmod_res= fmod.fit(cov_type = 'unadjusted', iterate = True)\n",
    "print(fmod_res)"
   ]
  },
  {
   "cell_type": "code",
   "execution_count": null,
   "metadata": {},
   "outputs": [],
   "source": [
    "fmod_res.iterations"
   ]
  },
  {
   "cell_type": "markdown",
   "metadata": {},
   "source": [
    "## 4. Hagamos una estimación\n",
    "\n",
    "ASumimos que:\n",
    "\\begin{eqnarray*}\n",
    "    \\hat{\\boldsymbol{\\beta}}_{GLS} & = & (\\mathbf{X}' \\Sigma^{-1} \\mathbf{X})^{-1} \\mathbf{X}' \\Sigma^{-1} \\mathbf{Y}\n",
    "\\end{eqnarray*}\n",
    "\n",
    "y una matriz estimada como:\n",
    "\n",
    "\\begin{eqnarray*}\n",
    "    \\hat{\\Sigma} & = &\n",
    "    \\begin{bmatrix}\n",
    "    e^2_1 & e_1 e_2 & \\ldots & e_1 e_n \\\\\n",
    "    e_2 e_1 & e^2_2 & \\ldots & e_2 e_n \\\\\n",
    "    \\vdots & \\vdots & \\ddots & \\vdots \\\\\n",
    "    e_n e_1 & e_n e_2 & \\ldots & e^2_n \n",
    "    \\end{bmatrix}\n",
    "\\end{eqnarray*}\n",
    "\n",
    "Donde $e_i = y_i - \\mathbf{x}_i \\boldsymbol{\\beta}$ es el error estimado"
   ]
  },
  {
   "cell_type": "code",
   "execution_count": null,
   "metadata": {},
   "outputs": [],
   "source": [
    "fres_het = fmod.fit(cov_type = 'robust')\n",
    "print(fres_het.summary)"
   ]
  },
  {
   "cell_type": "code",
   "execution_count": null,
   "metadata": {},
   "outputs": [],
   "source": []
  }
 ],
 "metadata": {
  "kernelspec": {
   "display_name": "Python 3",
   "language": "python",
   "name": "python3"
  },
  "language_info": {
   "codemirror_mode": {
    "name": "ipython",
    "version": 3
   },
   "file_extension": ".py",
   "mimetype": "text/x-python",
   "name": "python",
   "nbconvert_exporter": "python",
   "pygments_lexer": "ipython3",
   "version": "3.7.5"
  }
 },
 "nbformat": 4,
 "nbformat_minor": 2
}
