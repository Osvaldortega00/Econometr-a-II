{
 "cells": [
  {
   "cell_type": "markdown",
   "metadata": {},
   "source": [
    "# Estimación de Modelo Probit\n",
    "\n",
    "### Conjunto de datos: participación laboral femenina\n",
    "\n",
    "* En este ejercicio trabajamos en el conjunto de datos de Mroz sobre la participación laboral femenina con 8 variables.\n",
    "\n",
    "* Los datos cubren una muestra de 753 mujeres blancas casadas de entre 30 y 60 años en 1975. \n",
    "\n",
    "* La fuente original de estos datos es Mroz, T.A. (1987). “The sensitivity of an empirical model of married women’s hours of work to economic and statistical assumptions.” Econometrica 55, 765-799.\n",
    "\n",
    "* La descripción de las variables se puede encontrar a continuación:\n",
    "\n",
    "lfp: Labor-force participation of the married white woman (Categorical: 0/1)\n",
    "\n",
    "k5: Number of children younger than 6 years old\t(Entero positivo)\n",
    "\n",
    "k618: Number of children aged 6-18 (Entero positivo)\n",
    "\n",
    "age: Age in years (Entero positivo)\n",
    "\n",
    "wc: Wife's college attendance (Categorical: 0/1)\n",
    "\n",
    "hc: Husband's college attendance (Categorical: 0/1)\n",
    "\n",
    "lwg: Log expected wage rate for women in the labor force (Numerical)\n",
    "\n",
    "inc: Family income without the wife's income (Numerical)"
   ]
  },
  {
   "cell_type": "markdown",
   "metadata": {},
   "source": [
    "# 1. Importación de bibliotecas y datos"
   ]
  },
  {
   "cell_type": "code",
   "execution_count": null,
   "metadata": {},
   "outputs": [],
   "source": [
    "# Dependecies:\n",
    "import pandas as pd\n",
    "import numpy as np\n",
    "import statsmodels.api as sm\n",
    "from statsmodels.discrete.discrete_model import Probit\n",
    "\n",
    "#\n",
    "import warnings\n",
    "warnings.filterwarnings('ignore')"
   ]
  },
  {
   "cell_type": "code",
   "execution_count": null,
   "metadata": {},
   "outputs": [],
   "source": [
    "# Importación de datos\n",
    "data = pd.read_csv('Mroz.csv')\n",
    "data.head()"
   ]
  },
  {
   "cell_type": "code",
   "execution_count": null,
   "metadata": {},
   "outputs": [],
   "source": [
    "# Limpieza de datos:\n",
    "#\n",
    "data[\"lfp_d\"] = 0\n",
    "data.loc[data.lfp == \"yes\", \"lfp_d\"] = 1\n",
    "\n",
    "#\n",
    "data[\"wc_d\"] = 0\n",
    "data.loc[data.wc == \"yes\", \"wc_d\"] = 1\n",
    "\n",
    "#\n",
    "data[\"hc_d\"] = 0\n",
    "data.loc[data.hc == \"yes\", \"hc_d\"] = 1\n",
    "\n",
    "#\n",
    "data"
   ]
  },
  {
   "cell_type": "code",
   "execution_count": null,
   "metadata": {},
   "outputs": [],
   "source": [
    "# Estadísticas descriptivas:\n",
    "\n",
    "data.describe()"
   ]
  },
  {
   "cell_type": "markdown",
   "metadata": {},
   "source": [
    "# 2. Estimación del modelo Probit"
   ]
  },
  {
   "cell_type": "code",
   "execution_count": null,
   "metadata": {},
   "outputs": [],
   "source": [
    "# Definimos variables dependiente e independientes:\n",
    "\n",
    "Y = data['lfp_d']\n",
    "X = data[['k5', 'k618', 'age', 'wc_d', 'hc_d', 'lwg', 'inc']]\n",
    "X = sm.add_constant(X)"
   ]
  },
  {
   "cell_type": "code",
   "execution_count": null,
   "metadata": {},
   "outputs": [],
   "source": [
    "# Estimación:\n",
    "\n",
    "model = Probit(Y, X.astype(float))\n",
    "probit_model = model.fit()\n",
    "print(probit_model.summary())"
   ]
  },
  {
   "cell_type": "markdown",
   "metadata": {},
   "source": [
    "# 3. Efectos marginales"
   ]
  },
  {
   "cell_type": "markdown",
   "metadata": {},
   "source": [
    "Algunas caracterísricas de los datos:"
   ]
  },
  {
   "cell_type": "code",
   "execution_count": null,
   "metadata": {},
   "outputs": [],
   "source": [
    "# Tablas de frecuencias por categoria para hc: Husband's college attendance (Categorical: 0/1)\n",
    "\n",
    "pd.crosstab(data[\"lfp\"], data[\"hc\"], margins = True)"
   ]
  },
  {
   "cell_type": "markdown",
   "metadata": {},
   "source": [
    "\\begin{eqnarray*}\n",
    "    EMg_j & = & P(y = 1 | \\mathbf{x}_i, x_j = 1) - P(y = 1 | \\mathbf{x}_i, x_j = 0) \\\\\n",
    "    & = & G(\\mathbf{x}_i \\boldsymbol{\\beta} | x_j = 1) - G(\\mathbf{x}_i \\boldsymbol{\\beta} | x_j = 0) \\\\\n",
    "    & = & G(\\beta_1 + x_{2} \\beta_2 + \\ldots + \\beta_j + \\ldots + x_{K} \\beta_K) \\\\\n",
    "    &  & - G(\\beta_1 + x_{2} \\beta_2 + \\ldots + 0 + \\ldots + x_{K} \\beta_K)\n",
    "\\end{eqnarray*}"
   ]
  },
  {
   "cell_type": "code",
   "execution_count": null,
   "metadata": {},
   "outputs": [],
   "source": [
    "# hc: Husband's college attendance = 0\n",
    "hc_data0 = np.column_stack((\n",
    "                            1, np.mean(data[\"k5\"]), np.mean(data[\"k618\"]), np.mean(data[\"age\"]),\n",
    "                            np.mean(data[\"wc_d\"]), 0, np.mean(data[\"lwg\"]), np.mean(data[\"inc\"])\n",
    "                           ))\n",
    "\n",
    "hc_data0"
   ]
  },
  {
   "cell_type": "code",
   "execution_count": null,
   "metadata": {},
   "outputs": [],
   "source": [
    "# hc: Husband's college attendance = 1\n",
    "hc_data1 = np.column_stack((\n",
    "                            1, np.mean(data[\"k5\"]), np.mean(data[\"k618\"]), np.mean(data[\"age\"]),\n",
    "                            np.mean(data[\"wc_d\"]), 1, np.mean(data[\"lwg\"]), np.mean(data[\"inc\"])\n",
    "                           ))\n",
    "\n",
    "hc_data1"
   ]
  },
  {
   "cell_type": "code",
   "execution_count": null,
   "metadata": {},
   "outputs": [],
   "source": [
    "# Estimación para el primero: D = 0\n",
    "print(probit_model.predict(hc_data0))"
   ]
  },
  {
   "cell_type": "code",
   "execution_count": null,
   "metadata": {},
   "outputs": [],
   "source": [
    "# Estimación para el segundo: D = 1\n",
    "print(probit_model.predict(hc_data1))"
   ]
  },
  {
   "cell_type": "code",
   "execution_count": null,
   "metadata": {},
   "outputs": [],
   "source": [
    "# Efecto Marginal:\n",
    "probit_model.predict(hc_data1) - probit_model.predict(hc_data0)"
   ]
  },
  {
   "cell_type": "code",
   "execution_count": null,
   "metadata": {},
   "outputs": [],
   "source": [
    "# Tablas de frecuencias por categoria para wc: Wife's college attendance (Categorical: 0/1)\n",
    "\n",
    "pd.crosstab(data[\"lfp\"], data[\"wc\"], margins = True)"
   ]
  },
  {
   "cell_type": "code",
   "execution_count": null,
   "metadata": {},
   "outputs": [],
   "source": [
    "# wc: Wife's college attendance = 0\n",
    "wc_data0 = np.column_stack((1, np.mean(data[\"k5\"]), np.mean(data[\"k618\"]), np.mean(data[\"age\"]), \n",
    "                            0, np.mean(data[\"hc_d\"]), np.mean(data[\"lwg\"]), np.mean(data[\"inc\"])))\n",
    "\n",
    "wc_data0"
   ]
  },
  {
   "cell_type": "code",
   "execution_count": null,
   "metadata": {},
   "outputs": [],
   "source": [
    "# wc: Wife's college attendance = 0\n",
    "wc_data1 = np.column_stack((1, np.mean(data[\"k5\"]), np.mean(data[\"k618\"]), np.mean(data[\"age\"]), \n",
    "                            1, np.mean(data[\"hc_d\"]), np.mean(data[\"lwg\"]), np.mean(data[\"inc\"])))\n",
    "\n",
    "wc_data1"
   ]
  },
  {
   "cell_type": "code",
   "execution_count": null,
   "metadata": {},
   "outputs": [],
   "source": [
    "print(probit_model.predict(wc_data0)), print(probit_model.predict(wc_data1))"
   ]
  },
  {
   "cell_type": "code",
   "execution_count": null,
   "metadata": {},
   "outputs": [],
   "source": [
    "probit_model.predict(wc_data1) - probit_model.predict(wc_data0)"
   ]
  },
  {
   "cell_type": "code",
   "execution_count": null,
   "metadata": {},
   "outputs": [],
   "source": [
    "# Tablas de frecuencias por categoria para k5: Number of children younger than 6 years old (Entero positivo)\n",
    "\n",
    "pd.crosstab(data[\"lfp\"], data[\"k5\"], margins = True)"
   ]
  },
  {
   "cell_type": "markdown",
   "metadata": {},
   "source": [
    "\\begin{eqnarray*}\n",
    "    EMg_j & = & P(y = 1 | \\mathbf{x}_i, x_j = 1) - P(y = 1 | \\mathbf{x}_i, x_j = 0) \\\\\n",
    "    & = & G(\\mathbf{x}_i \\boldsymbol{\\beta} | x_j = C + 1) - G(\\mathbf{x}_i \\boldsymbol{\\beta} | x_j = C) \\\\\n",
    "\\end{eqnarray*}"
   ]
  },
  {
   "cell_type": "code",
   "execution_count": null,
   "metadata": {},
   "outputs": [],
   "source": [
    "k5_data = np.column_stack(( np.repeat(1,4), (0,1,2,3),\n",
    "                           np.repeat(np.mean(data[\"k618\"]), 4), np.repeat(np.mean(data[\"age\"]),4),\n",
    "                           np.repeat(np.mean(data[\"wc_d\"]),4), np.repeat(np.mean(data[\"hc_d\"]),4),\n",
    "                           np.repeat(np.mean(data[\"lwg\"]),4), np.repeat(np.mean(data[\"inc\"]),4) ))\n",
    "\n",
    "k5_data"
   ]
  },
  {
   "cell_type": "code",
   "execution_count": null,
   "metadata": {},
   "outputs": [],
   "source": [
    "print(probit_model.predict(k5_data))"
   ]
  },
  {
   "cell_type": "markdown",
   "metadata": {},
   "source": [
    "Sin importar el modelo que estemos ocupando, la forma de interpretar el modelo es mediante el efecto marginal, cuando $x_j$ sea una variable continua:\n",
    "\\begin{equation*}\n",
    "    EMg_j = \\frac{\\partial}{\\partial x_j} P(y = 1 | \\mathbf{x}_i) = \\frac{\\partial}{\\partial x_j} G(\\mathbf{x}_i \\boldsymbol{\\beta}) = g(\\mathbf{x}_i \\boldsymbol{\\beta}) \\beta_j\n",
    "\\end{equation*}"
   ]
  },
  {
   "cell_type": "code",
   "execution_count": null,
   "metadata": {},
   "outputs": [],
   "source": [
    "#\n",
    "mfx = probit_model.get_margeff()\n",
    "\n",
    "print(mfx.summary())"
   ]
  },
  {
   "cell_type": "code",
   "execution_count": null,
   "metadata": {},
   "outputs": [],
   "source": []
  }
 ],
 "metadata": {
  "kernelspec": {
   "display_name": "Python 3",
   "language": "python",
   "name": "python3"
  },
  "language_info": {
   "codemirror_mode": {
    "name": "ipython",
    "version": 3
   },
   "file_extension": ".py",
   "mimetype": "text/x-python",
   "name": "python",
   "nbconvert_exporter": "python",
   "pygments_lexer": "ipython3",
   "version": "3.7.5"
  }
 },
 "nbformat": 4,
 "nbformat_minor": 2
}
