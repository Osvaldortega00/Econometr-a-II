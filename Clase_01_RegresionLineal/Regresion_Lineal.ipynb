{
 "cells": [
  {
   "cell_type": "markdown",
   "metadata": {},
   "source": [
    "# REGRESIÓN LINEAL"
   ]
  },
  {
   "cell_type": "markdown",
   "metadata": {},
   "source": [
    "* Para este análisis necesitamos instalar un par de librerías.\n",
    "* La librería pyreadstat permite leer archivos.dta en python y construir DataFrames a partir de los datos.\n",
    "* La librería statsmodels nos permitirá utilizar el modelo de regresión lineal"
   ]
  },
  {
   "cell_type": "code",
   "execution_count": null,
   "metadata": {},
   "outputs": [],
   "source": [
    "#Corre esta celda solo una vez\n",
    "#\n",
    "#!pip install pyreadstat\n",
    "#!pip install statsmodels"
   ]
  },
  {
   "cell_type": "code",
   "execution_count": 1,
   "metadata": {},
   "outputs": [],
   "source": [
    "import pyreadstat #librería para leer  formato.dta\n",
    "import pandas as pd #librería para manipulación de datos\n",
    "import matplotlib #librería para graficar\n",
    "from matplotlib import pyplot as plt #librería para graficar\n",
    "import statsmodels.api as sm #librería para análisis estadístico\n",
    "from IPython.display import Image # Para imagénes\n",
    "import numpy as np # Algunas funciones matemáticas\n",
    "import statsmodels.api as sm # Para funciones de regresión y otros \n",
    "from statsmodels.formula.api import ols # Para pruebas de hipotesis\n",
    "\n",
    "#\n",
    "import warnings\n",
    "warnings.filterwarnings('ignore')"
   ]
  },
  {
   "cell_type": "markdown",
   "metadata": {},
   "source": [
    "## Aplicación del Método de MCO: Retornos a Escala en la Industria Eléctrica\n",
    "\n",
    "Esta aplicación tiene su origen en el trabajo de Nerlove (1963). Este es un estudio clásico de los retornos a escala en una industria regulada. Nerlove ofreció una buena descripción de la industria eléctrica, dicha descripción es válida para el momento en que se escribió:\n",
    "* Los oferentes/generadores de electricidad son monopolios locales privados.\n",
    "* Las tarifas o precios minoristas de la eléctricidad son establecidos por un ente regulador.\n",
    "* Los precios de los factores productivos están dados y no son modificables por las empresas en el corto plazo, ya que existen diversos contratos de largo plazo (por ejemplo, los contratos laborales).\n",
    "\n",
    "Respecto de los datos, estos consisten en 145 empresas ubicadas en 44 estados en EUA en el año 1955, ya que son para los únicos estados para los que existe información. El estudio utilizó información de aproximadamente el 80% de la electricidad producida.\n",
    "\n",
    "Visto por la forma de producción, Nerlove identicó que existían 3 métodos de producción de electricidad: \n",
    "* Motores de conbustión interna.\n",
    "* Hidroeléctricas.\n",
    "* Termoeléctricas.\n",
    "\n",
    "Al respecto, Nerlove muestra que en los 50's cerca del 70% de la electricidad era producida por las empresas termoeléctricas. El combustible pincipal empleado en dichas termoeléctricas era carbón (66.4%), seguido de petróleo (14.5%) y gasolina (19.1%).\n"
   ]
  },
  {
   "cell_type": "markdown",
   "metadata": {},
   "source": [
    "## Variables: \n",
    "Las variables consideradas son: costos totales, precios de los factores (salarios, precios de combustibles, renta o precio del capital), y el producto. Aunque las empresas son dueñas del capital, en el modelo se supone que dichas empresas se comportan como si estas pagaran una renta de capital, por lo que se imputa un precio por el costo de capital.\n",
    "\n",
    "No obstante, para mayores detalles refierase al documento original de Nerlove, donde se describe con mayor detalle la forma en que fue construída la base de datos. Los datos de producción, combustibles y costos laborales fueron obtenidos de la Federal Power Commision (1956)."
   ]
  },
  {
   "cell_type": "markdown",
   "metadata": {},
   "source": [
    "## Motivación económica:\n",
    "La motivación para el analísis es que mediante un enfoque econométrico se puede construir una curva de costo promedio (AC, por sus siglas en inglés) para cada empresa, misma que es diferente de la promedio de la industria. Esto es, la empresas enfrentan diferentes precios por los factores productivos y por lo tanto diferentes costos totales, medios y marginales.\n",
    "\n",
    "Para enfocarnos en la conexión entre la eficiencia de producción y el producto, asumimos que todas las empresas enfrentan mas o menos los mismos precios de los factores, y la única razón por la que las curvas de costo medio (AC) y de costo marginal (MC) difieren entre las empresas es la diferencia en la eficiencia productiva. Las curvas de AC y de MC tienen pendiente positiva para reflejar retornos a escala decrecientes. \n",
    "\n",
    "Si vemos la siguiente Figura, las curvas de AC y MC de la empresa A estan a la izquierda de las de la empresa B porque la empresa A es menos eficiente que B. Esto es derivado de que la industria es competida, ambas empresas enfrentan el mismo precio $p$. Dado que la cantidad está determinada por la intersección de MC y el precio de mercado, las combinaciones de cantidad / producto y el AC para las dos empresas e ilustra en la Figura."
   ]
  },
  {
   "cell_type": "markdown",
   "metadata": {},
   "source": [
    "<img src=\"Hayashi_p62.PNG\" style=\"width: 600px;\"> "
   ]
  },
  {
   "cell_type": "markdown",
   "metadata": {},
   "source": [
    "De esta forma, la curva que resulta de conectar los puntos A y B puede tener una pendiente negativa, dando la impresión de un escenario de rendimientos crecientes a escala en la industria, ya que la agregación de todos los puntos de las empresas individuales conformaran la curva de costos promedio de la industria. \n",
    "\n",
    "La parametrización de la función de costos parte de una función de producción del tipo Cobb - Douglas:\n",
    "$$Q_i = A_i x^{\\alpha_1}_{i1} x^{\\alpha_2}_{i2} x^{\\alpha_3}_{i3}$$\n",
    "\n",
    "Donde $Q_i$ es la producción de la empresa $i$, $x_{i1}$ es el insumo de trabajo para la empresa $i$, $x_{i2}$ es el insumo capital para la empresa $i$, y $x_{i3}$ es el insumo de combustible para la empresa $i$. El término $A_i$ captura las direncias no observables en la eficiencia de producción (este término también es conocido como el de heterogenidad de las empresas). \n",
    "\n",
    "Asimismo, la suma de los paramétros: $\\alpha_1 + \\alpha_2 + \\alpha_3 = r$ indica el grado de retornos a escala. Dado esto último, asumiremos que el grado de retornos a escala es constante (esto no significa que existen retornos a escala constantes, ya que para ello se debería cumplir que $r = 1$). Adicionalmente, en el modelo se supone que dada la naturaleza de propiedad de las empresas generadoras, el problema que cada una ellas enfrenta es uno de minimización de costos (véase Nerlove (1963) para una discusión sobre las restricciones relacionadas con este supuesto).\n"
   ]
  },
  {
   "cell_type": "markdown",
   "metadata": {},
   "source": [
    "En este sentido, el problema que cada empresa enfrenta es el de minimizar sus costos de producción, sujeto a la cantidad producida, es decir:\n",
    "$$\\min_{x_{i1}, \\ldots, x_{iK}} \\sum_{k = 1}^{K} p_{ik}x_{ik}$$\n",
    "s.a.\n",
    "$$Q_i = f(x_{i1}, \\ldots, x_{iK}, A_i)$$\n",
    "\n",
    "Resolviendo el problema anterior:\n",
    "$$ln(C_i) = \\mu_i +  \\frac{1}{r} ln(Q_i) + \\frac{\\alpha_1}{r} ln(p_{i1}) + \\frac{\\alpha_2}{r} ln(p_{i2}) + \\frac{\\alpha_3}{r} ln(p_{i3})$$\n",
    "\n",
    "Donde $\\mu_i = ln \\left[ r \\left( A_i \\alpha^{\\alpha_1}_{1} \\alpha^{\\alpha_2}_{2} \\alpha^{\\alpha_3}_{3} \\right)^{-1/r} \\right]$. \n",
    "\n",
    "La ecuación es conocida como una ecuación log-lineal, de la cual se puede interpretar a sus pendientes como elasticidades. Es decir, el cambio porcentual en el costo total cuando se incremnta en 1% el precio de cualquiera de los factores. \n",
    "\n",
    "Si definimos a $\\mu = \\mathbb{E} [\\mu_i]$ y a $\\varepsilon_i = \\mu_i - \\mu$, de tal forma que $\\mathbb{E} [\\varepsilon_i] = 0$. De esta forma $\\varepsilon_i$ se puede interpretar como la eficiencia productiva de las empresas. Considerando lo anterior plateamos la expresión:\n",
    "$$ln(C_i) = \\beta_1 +  \\beta_2 ln(Q_i) + \\beta_3 ln(p_{i1}) + \\beta_4 ln(p_{i2}) + \\beta_5 ln(p_{i3}) + \\varepsilon_i$$\n",
    "\n",
    "Donde:\n",
    "$$\\beta_1 = \\mu$$\n",
    "\n",
    "$$\\beta_2 = \\frac{1}{r}$$\n",
    "\n",
    "$$\\beta_3 = \\frac{\\alpha_1}{r}$$\n",
    "\n",
    "$$\\beta_4 = \\frac{\\alpha_2}{r}$$\n",
    "\n",
    "$$\\beta_5 = \\frac{\\alpha_3}{r}$$\n",
    "\n",
    "De esta forma podemos decir que $y_i = ln(C_i)$ y que:\n",
    "$$\\mathbf{X}'_i = [ln(Q_i), ln(p_{i1}), ln(p_{i2}), ln(p_{i3})]$$\n",
    "\n",
    "Esta función tmabién es conocida como una función trans-log o trans-logarítmica, de la cual podemos recuperar una forma estimada de la función de costos original:"
   ]
  },
  {
   "cell_type": "markdown",
   "metadata": {},
   "source": [
    "<img src=\"Nerlove.PNG\" style=\"width: 500px;\"> "
   ]
  },
  {
   "cell_type": "markdown",
   "metadata": {},
   "source": [
    "# Plan de la clase:\n",
    "* ### Regresión lineal\n",
    "* ### Media condicional descrita por:\n",
    "$$ln(C_i) = \\beta_1 +  \\beta_2 ln(Output_i) + \\beta_3 ln(plabor_{i1}) + \\beta_4 ln(pfuel_{i2}) + \\beta_5 ln(pkap_{i3}) + \\varepsilon_i$$"
   ]
  },
  {
   "cell_type": "markdown",
   "metadata": {},
   "source": [
    "### Metadatos: La base de datos contiene 145 observaciones  de las siguientes variables:\n",
    "**Datos de Demanda de Gasolina:**\n",
    "* **totcost:** costs in 1970, MM USD\n",
    "\n",
    "* **output:** output billion KwH\n",
    "* **plabor:** price of labor\n",
    "* **pfuel:** price of fuel\n",
    "* **pkap:** price of capital"
   ]
  },
  {
   "cell_type": "code",
   "execution_count": 2,
   "metadata": {},
   "outputs": [],
   "source": [
    "#\n",
    "dtafile = 'nerlove63.dta'\n",
    "dataframe, meta = pyreadstat.read_dta(dtafile)"
   ]
  },
  {
   "cell_type": "code",
   "execution_count": 3,
   "metadata": {},
   "outputs": [
    {
     "data": {
      "text/plain": [
       "Index(['totcost', 'output', 'plabor', 'pfuel', 'pkap'], dtype='object')"
      ]
     },
     "execution_count": 3,
     "metadata": {},
     "output_type": "execute_result"
    }
   ],
   "source": [
    "#\n",
    "dataframe.columns"
   ]
  },
  {
   "cell_type": "code",
   "execution_count": 4,
   "metadata": {},
   "outputs": [
    {
     "data": {
      "text/html": [
       "<div>\n",
       "<style scoped>\n",
       "    .dataframe tbody tr th:only-of-type {\n",
       "        vertical-align: middle;\n",
       "    }\n",
       "\n",
       "    .dataframe tbody tr th {\n",
       "        vertical-align: top;\n",
       "    }\n",
       "\n",
       "    .dataframe thead th {\n",
       "        text-align: right;\n",
       "    }\n",
       "</style>\n",
       "<table border=\"1\" class=\"dataframe\">\n",
       "  <thead>\n",
       "    <tr style=\"text-align: right;\">\n",
       "      <th></th>\n",
       "      <th>totcost</th>\n",
       "      <th>output</th>\n",
       "      <th>plabor</th>\n",
       "      <th>pfuel</th>\n",
       "      <th>pkap</th>\n",
       "    </tr>\n",
       "  </thead>\n",
       "  <tbody>\n",
       "    <tr>\n",
       "      <th>0</th>\n",
       "      <td>0.082</td>\n",
       "      <td>2.0</td>\n",
       "      <td>2.09</td>\n",
       "      <td>17.900000</td>\n",
       "      <td>183.0</td>\n",
       "    </tr>\n",
       "    <tr>\n",
       "      <th>1</th>\n",
       "      <td>0.661</td>\n",
       "      <td>3.0</td>\n",
       "      <td>2.05</td>\n",
       "      <td>35.099998</td>\n",
       "      <td>174.0</td>\n",
       "    </tr>\n",
       "    <tr>\n",
       "      <th>2</th>\n",
       "      <td>0.990</td>\n",
       "      <td>4.0</td>\n",
       "      <td>2.05</td>\n",
       "      <td>35.099998</td>\n",
       "      <td>171.0</td>\n",
       "    </tr>\n",
       "    <tr>\n",
       "      <th>3</th>\n",
       "      <td>0.315</td>\n",
       "      <td>4.0</td>\n",
       "      <td>1.83</td>\n",
       "      <td>32.200001</td>\n",
       "      <td>166.0</td>\n",
       "    </tr>\n",
       "    <tr>\n",
       "      <th>4</th>\n",
       "      <td>0.197</td>\n",
       "      <td>5.0</td>\n",
       "      <td>2.12</td>\n",
       "      <td>28.600000</td>\n",
       "      <td>233.0</td>\n",
       "    </tr>\n",
       "  </tbody>\n",
       "</table>\n",
       "</div>"
      ],
      "text/plain": [
       "   totcost  output  plabor      pfuel   pkap\n",
       "0    0.082     2.0    2.09  17.900000  183.0\n",
       "1    0.661     3.0    2.05  35.099998  174.0\n",
       "2    0.990     4.0    2.05  35.099998  171.0\n",
       "3    0.315     4.0    1.83  32.200001  166.0\n",
       "4    0.197     5.0    2.12  28.600000  233.0"
      ]
     },
     "execution_count": 4,
     "metadata": {},
     "output_type": "execute_result"
    }
   ],
   "source": [
    "#\n",
    "dataframe.head(5)"
   ]
  },
  {
   "cell_type": "markdown",
   "metadata": {},
   "source": [
    "### **Estadisticas y tablas resumen**"
   ]
  },
  {
   "cell_type": "code",
   "execution_count": 5,
   "metadata": {},
   "outputs": [
    {
     "data": {
      "text/html": [
       "<div>\n",
       "<style scoped>\n",
       "    .dataframe tbody tr th:only-of-type {\n",
       "        vertical-align: middle;\n",
       "    }\n",
       "\n",
       "    .dataframe tbody tr th {\n",
       "        vertical-align: top;\n",
       "    }\n",
       "\n",
       "    .dataframe thead th {\n",
       "        text-align: right;\n",
       "    }\n",
       "</style>\n",
       "<table border=\"1\" class=\"dataframe\">\n",
       "  <thead>\n",
       "    <tr style=\"text-align: right;\">\n",
       "      <th></th>\n",
       "      <th>totcost</th>\n",
       "      <th>output</th>\n",
       "      <th>plabor</th>\n",
       "      <th>pfuel</th>\n",
       "      <th>pkap</th>\n",
       "    </tr>\n",
       "  </thead>\n",
       "  <tbody>\n",
       "    <tr>\n",
       "      <th>count</th>\n",
       "      <td>145.00</td>\n",
       "      <td>145.00</td>\n",
       "      <td>145.00</td>\n",
       "      <td>145.00</td>\n",
       "      <td>145.00</td>\n",
       "    </tr>\n",
       "    <tr>\n",
       "      <th>mean</th>\n",
       "      <td>12.98</td>\n",
       "      <td>2133.08</td>\n",
       "      <td>1.97</td>\n",
       "      <td>26.18</td>\n",
       "      <td>174.50</td>\n",
       "    </tr>\n",
       "    <tr>\n",
       "      <th>std</th>\n",
       "      <td>19.79</td>\n",
       "      <td>2931.94</td>\n",
       "      <td>0.24</td>\n",
       "      <td>7.88</td>\n",
       "      <td>18.21</td>\n",
       "    </tr>\n",
       "    <tr>\n",
       "      <th>min</th>\n",
       "      <td>0.08</td>\n",
       "      <td>2.00</td>\n",
       "      <td>1.45</td>\n",
       "      <td>10.30</td>\n",
       "      <td>138.00</td>\n",
       "    </tr>\n",
       "    <tr>\n",
       "      <th>25%</th>\n",
       "      <td>2.38</td>\n",
       "      <td>279.00</td>\n",
       "      <td>1.76</td>\n",
       "      <td>21.30</td>\n",
       "      <td>162.00</td>\n",
       "    </tr>\n",
       "    <tr>\n",
       "      <th>50%</th>\n",
       "      <td>6.75</td>\n",
       "      <td>1109.00</td>\n",
       "      <td>2.04</td>\n",
       "      <td>26.90</td>\n",
       "      <td>170.00</td>\n",
       "    </tr>\n",
       "    <tr>\n",
       "      <th>75%</th>\n",
       "      <td>14.13</td>\n",
       "      <td>2507.00</td>\n",
       "      <td>2.19</td>\n",
       "      <td>32.20</td>\n",
       "      <td>183.00</td>\n",
       "    </tr>\n",
       "    <tr>\n",
       "      <th>max</th>\n",
       "      <td>139.42</td>\n",
       "      <td>16719.00</td>\n",
       "      <td>2.32</td>\n",
       "      <td>42.80</td>\n",
       "      <td>233.00</td>\n",
       "    </tr>\n",
       "  </tbody>\n",
       "</table>\n",
       "</div>"
      ],
      "text/plain": [
       "       totcost    output  plabor   pfuel    pkap\n",
       "count   145.00    145.00  145.00  145.00  145.00\n",
       "mean     12.98   2133.08    1.97   26.18  174.50\n",
       "std      19.79   2931.94    0.24    7.88   18.21\n",
       "min       0.08      2.00    1.45   10.30  138.00\n",
       "25%       2.38    279.00    1.76   21.30  162.00\n",
       "50%       6.75   1109.00    2.04   26.90  170.00\n",
       "75%      14.13   2507.00    2.19   32.20  183.00\n",
       "max     139.42  16719.00    2.32   42.80  233.00"
      ]
     },
     "execution_count": 5,
     "metadata": {},
     "output_type": "execute_result"
    }
   ],
   "source": [
    "#\n",
    "dataframe.describe().round(2)"
   ]
  },
  {
   "cell_type": "code",
   "execution_count": 6,
   "metadata": {},
   "outputs": [
    {
     "data": {
      "text/plain": [
       "totcost    float64\n",
       "output     float64\n",
       "plabor     float64\n",
       "pfuel      float64\n",
       "pkap       float64\n",
       "dtype: object"
      ]
     },
     "execution_count": 6,
     "metadata": {},
     "output_type": "execute_result"
    }
   ],
   "source": [
    "#\n",
    "dataframe.dtypes"
   ]
  },
  {
   "cell_type": "code",
   "execution_count": 7,
   "metadata": {},
   "outputs": [
    {
     "data": {
      "text/plain": [
       "False"
      ]
     },
     "execution_count": 7,
     "metadata": {},
     "output_type": "execute_result"
    }
   ],
   "source": [
    "#\n",
    "dataframe.isnull().values.any()"
   ]
  },
  {
   "cell_type": "markdown",
   "metadata": {},
   "source": [
    "### **Generando nuevas variables**"
   ]
  },
  {
   "cell_type": "code",
   "execution_count": 8,
   "metadata": {},
   "outputs": [],
   "source": [
    "#Creamos la variable Ltotcost aplicando logaritmo a totcost y guardamos el resultado en la nueva columna Ltotcost\n",
    "\n",
    "dataframe['Ltotcost'] = np.log(dataframe['totcost'])\n",
    "dataframe['Loutput'] = np.log(dataframe['output'])\n",
    "dataframe['Lplabor'] = np.log(dataframe['plabor'])\n",
    "dataframe['Lpfuel'] = np.log(dataframe['pfuel'])\n",
    "dataframe['Lpkap'] = np.log(dataframe['pkap'])\n",
    "dataframe['avgcost'] = dataframe[\"totcost\"]/dataframe[\"output\"]"
   ]
  },
  {
   "cell_type": "code",
   "execution_count": 9,
   "metadata": {},
   "outputs": [],
   "source": [
    "#\n",
    "dataframe['One'] = 1"
   ]
  },
  {
   "cell_type": "code",
   "execution_count": 10,
   "metadata": {},
   "outputs": [
    {
     "data": {
      "text/html": [
       "<div>\n",
       "<style scoped>\n",
       "    .dataframe tbody tr th:only-of-type {\n",
       "        vertical-align: middle;\n",
       "    }\n",
       "\n",
       "    .dataframe tbody tr th {\n",
       "        vertical-align: top;\n",
       "    }\n",
       "\n",
       "    .dataframe thead th {\n",
       "        text-align: right;\n",
       "    }\n",
       "</style>\n",
       "<table border=\"1\" class=\"dataframe\">\n",
       "  <thead>\n",
       "    <tr style=\"text-align: right;\">\n",
       "      <th></th>\n",
       "      <th>totcost</th>\n",
       "      <th>output</th>\n",
       "      <th>plabor</th>\n",
       "      <th>pfuel</th>\n",
       "      <th>pkap</th>\n",
       "      <th>Ltotcost</th>\n",
       "      <th>Loutput</th>\n",
       "      <th>Lplabor</th>\n",
       "      <th>Lpfuel</th>\n",
       "      <th>Lpkap</th>\n",
       "      <th>avgcost</th>\n",
       "      <th>One</th>\n",
       "    </tr>\n",
       "  </thead>\n",
       "  <tbody>\n",
       "    <tr>\n",
       "      <th>0</th>\n",
       "      <td>0.082</td>\n",
       "      <td>2.0</td>\n",
       "      <td>2.09</td>\n",
       "      <td>17.900000</td>\n",
       "      <td>183.0</td>\n",
       "      <td>-2.501036</td>\n",
       "      <td>0.693147</td>\n",
       "      <td>0.737164</td>\n",
       "      <td>2.884801</td>\n",
       "      <td>5.209486</td>\n",
       "      <td>0.041000</td>\n",
       "      <td>1</td>\n",
       "    </tr>\n",
       "    <tr>\n",
       "      <th>1</th>\n",
       "      <td>0.661</td>\n",
       "      <td>3.0</td>\n",
       "      <td>2.05</td>\n",
       "      <td>35.099998</td>\n",
       "      <td>174.0</td>\n",
       "      <td>-0.414001</td>\n",
       "      <td>1.098612</td>\n",
       "      <td>0.717840</td>\n",
       "      <td>3.558201</td>\n",
       "      <td>5.159055</td>\n",
       "      <td>0.220333</td>\n",
       "      <td>1</td>\n",
       "    </tr>\n",
       "    <tr>\n",
       "      <th>2</th>\n",
       "      <td>0.990</td>\n",
       "      <td>4.0</td>\n",
       "      <td>2.05</td>\n",
       "      <td>35.099998</td>\n",
       "      <td>171.0</td>\n",
       "      <td>-0.010050</td>\n",
       "      <td>1.386294</td>\n",
       "      <td>0.717840</td>\n",
       "      <td>3.558201</td>\n",
       "      <td>5.141664</td>\n",
       "      <td>0.247500</td>\n",
       "      <td>1</td>\n",
       "    </tr>\n",
       "    <tr>\n",
       "      <th>3</th>\n",
       "      <td>0.315</td>\n",
       "      <td>4.0</td>\n",
       "      <td>1.83</td>\n",
       "      <td>32.200001</td>\n",
       "      <td>166.0</td>\n",
       "      <td>-1.155183</td>\n",
       "      <td>1.386294</td>\n",
       "      <td>0.604316</td>\n",
       "      <td>3.471966</td>\n",
       "      <td>5.111988</td>\n",
       "      <td>0.078750</td>\n",
       "      <td>1</td>\n",
       "    </tr>\n",
       "    <tr>\n",
       "      <th>4</th>\n",
       "      <td>0.197</td>\n",
       "      <td>5.0</td>\n",
       "      <td>2.12</td>\n",
       "      <td>28.600000</td>\n",
       "      <td>233.0</td>\n",
       "      <td>-1.624552</td>\n",
       "      <td>1.609438</td>\n",
       "      <td>0.751416</td>\n",
       "      <td>3.353407</td>\n",
       "      <td>5.451038</td>\n",
       "      <td>0.039400</td>\n",
       "      <td>1</td>\n",
       "    </tr>\n",
       "  </tbody>\n",
       "</table>\n",
       "</div>"
      ],
      "text/plain": [
       "   totcost  output  plabor      pfuel   pkap  Ltotcost   Loutput   Lplabor  \\\n",
       "0    0.082     2.0    2.09  17.900000  183.0 -2.501036  0.693147  0.737164   \n",
       "1    0.661     3.0    2.05  35.099998  174.0 -0.414001  1.098612  0.717840   \n",
       "2    0.990     4.0    2.05  35.099998  171.0 -0.010050  1.386294  0.717840   \n",
       "3    0.315     4.0    1.83  32.200001  166.0 -1.155183  1.386294  0.604316   \n",
       "4    0.197     5.0    2.12  28.600000  233.0 -1.624552  1.609438  0.751416   \n",
       "\n",
       "     Lpfuel     Lpkap   avgcost  One  \n",
       "0  2.884801  5.209486  0.041000    1  \n",
       "1  3.558201  5.159055  0.220333    1  \n",
       "2  3.558201  5.141664  0.247500    1  \n",
       "3  3.471966  5.111988  0.078750    1  \n",
       "4  3.353407  5.451038  0.039400    1  "
      ]
     },
     "execution_count": 10,
     "metadata": {},
     "output_type": "execute_result"
    }
   ],
   "source": [
    "#\n",
    "dataframe.head()"
   ]
  },
  {
   "cell_type": "markdown",
   "metadata": {},
   "source": [
    "### **Estadisticas Descriptivas**"
   ]
  },
  {
   "cell_type": "code",
   "execution_count": 11,
   "metadata": {},
   "outputs": [
    {
     "name": "stdout",
     "output_type": "stream",
     "text": [
      "['seaborn-dark', 'seaborn-darkgrid', 'seaborn-ticks', 'fivethirtyeight', 'seaborn-whitegrid', 'classic', '_classic_test', 'fast', 'seaborn-talk', 'seaborn-dark-palette', 'seaborn-bright', 'seaborn-pastel', 'grayscale', 'seaborn-notebook', 'ggplot', 'seaborn-colorblind', 'seaborn-muted', 'seaborn', 'Solarize_Light2', 'seaborn-paper', 'bmh', 'tableau-colorblind10', 'seaborn-white', 'dark_background', 'seaborn-poster', 'seaborn-deep']\n"
     ]
    }
   ],
   "source": [
    "# \n",
    "print(plt.style.available)"
   ]
  },
  {
   "cell_type": "code",
   "execution_count": 12,
   "metadata": {},
   "outputs": [
    {
     "data": {
      "image/png": "[encoded data removed]",
      "text/plain": [
       "<Figure size 432x288 with 1 Axes>"
      ]
     },
     "metadata": {},
     "output_type": "display_data"
    }
   ],
   "source": [
    "#\n",
    "plt.style.use('ggplot')\n",
    "dataframe['totcost'].hist(color = 'blue')\n",
    "plt.ylabel(\"Freq\")\n",
    "plt.xlabel(\"totcost MM USD\")\n",
    "plt.title(\"Histograma totcost MM USD\")\n",
    "plt.show()"
   ]
  },
  {
   "cell_type": "code",
   "execution_count": 15,
   "metadata": {},
   "outputs": [
    {
     "data": {
      "image/png": "[encoded data removed]",
      "text/plain": [
       "<Figure size 432x288 with 1 Axes>"
      ]
     },
     "metadata": {},
     "output_type": "display_data"
    }
   ],
   "source": [
    "#\n",
    "plt.style.use('seaborn-white')\n",
    "dataframe['totcost'].plot.kde()\n",
    "plt.title(\"Densidad totcost MM USD\")\n",
    "plt.show()"
   ]
  },
  {
   "cell_type": "markdown",
   "metadata": {},
   "source": [
    "### ** Regresion:**"
   ]
  },
  {
   "cell_type": "code",
   "execution_count": 16,
   "metadata": {},
   "outputs": [
    {
     "data": {
      "image/png": "[encoded data removed]",
      "text/plain": [
       "<Figure size 432x288 with 1 Axes>"
      ]
     },
     "metadata": {},
     "output_type": "display_data"
    }
   ],
   "source": [
    "#\n",
    "plt.style.use('seaborn-dark')\n",
    "plt.scatter(dataframe.output, dataframe.avgcost, s = 10, color =\"red\")\n",
    "plt.title(\"Gráfico de dispersión Output vs Avg cost\")\n",
    "plt.show()"
   ]
  },
  {
   "cell_type": "code",
   "execution_count": 17,
   "metadata": {},
   "outputs": [
    {
     "name": "stdout",
     "output_type": "stream",
     "text": [
      "                            OLS Regression Results                            \n",
      "==============================================================================\n",
      "Dep. Variable:               Ltotcost   R-squared:                       0.926\n",
      "Model:                            OLS   Adj. R-squared:                  0.924\n",
      "Method:                 Least Squares   F-statistic:                     437.7\n",
      "Date:                Mon, 07 Mar 2022   Prob (F-statistic):           4.82e-78\n",
      "Time:                        08:46:46   Log-Likelihood:                -67.542\n",
      "No. Observations:                 145   AIC:                             145.1\n",
      "Df Residuals:                     140   BIC:                             160.0\n",
      "Df Model:                           4                                         \n",
      "Covariance Type:            nonrobust                                         \n",
      "==============================================================================\n",
      "                 coef    std err          t      P>|t|      [0.025      0.975]\n",
      "------------------------------------------------------------------------------\n",
      "One           -3.5265      1.774     -1.987      0.049      -7.035      -0.018\n",
      "Loutput        0.7204      0.017     41.244      0.000       0.686       0.755\n",
      "Lplabor        0.4363      0.291      1.499      0.136      -0.139       1.012\n",
      "Lpfuel         0.4265      0.100      4.249      0.000       0.228       0.625\n",
      "Lpkap         -0.2199      0.339     -0.648      0.518      -0.891       0.451\n",
      "==============================================================================\n",
      "Omnibus:                       51.403   Durbin-Watson:                   1.013\n",
      "Prob(Omnibus):                  0.000   Jarque-Bera (JB):              175.700\n",
      "Skew:                           1.303   Prob(JB):                     7.03e-39\n",
      "Kurtosis:                       7.721   Cond. No.                         506.\n",
      "==============================================================================\n",
      "\n",
      "Notes:\n",
      "[1] Standard Errors assume that the covariance matrix of the errors is correctly specified.\n"
     ]
    }
   ],
   "source": [
    "#\n",
    "Y = dataframe[\"Ltotcost\"]\n",
    "X = dataframe[[\"One\",\"Loutput\", \"Lplabor\", \"Lpfuel\", \"Lpkap\"]]\n",
    "#X2 = sm.add_constant(X)\n",
    "est = sm.OLS(Y,X)\n",
    "est2 = est.fit()\n",
    "print(est2.summary())"
   ]
  },
  {
   "cell_type": "code",
   "execution_count": 18,
   "metadata": {},
   "outputs": [
    {
     "name": "stdout",
     "output_type": "stream",
     "text": [
      "                            OLS Regression Results                            \n",
      "==============================================================================\n",
      "Dep. Variable:               Ltotcost   R-squared:                       0.926\n",
      "Model:                            OLS   Adj. R-squared:                  0.924\n",
      "Method:                 Least Squares   F-statistic:                     437.7\n",
      "Date:                Mon, 07 Mar 2022   Prob (F-statistic):           4.82e-78\n",
      "Time:                        08:49:18   Log-Likelihood:                -67.542\n",
      "No. Observations:                 145   AIC:                             145.1\n",
      "Df Residuals:                     140   BIC:                             160.0\n",
      "Df Model:                           4                                         \n",
      "Covariance Type:            nonrobust                                         \n",
      "==============================================================================\n",
      "                 coef    std err          t      P>|t|      [0.025      0.975]\n",
      "------------------------------------------------------------------------------\n",
      "const         -3.5265      1.774     -1.987      0.049      -7.035      -0.018\n",
      "Loutput        0.7204      0.017     41.244      0.000       0.686       0.755\n",
      "Lplabor        0.4363      0.291      1.499      0.136      -0.139       1.012\n",
      "Lpfuel         0.4265      0.100      4.249      0.000       0.228       0.625\n",
      "Lpkap         -0.2199      0.339     -0.648      0.518      -0.891       0.451\n",
      "==============================================================================\n",
      "Omnibus:                       51.403   Durbin-Watson:                   1.013\n",
      "Prob(Omnibus):                  0.000   Jarque-Bera (JB):              175.700\n",
      "Skew:                           1.303   Prob(JB):                     7.03e-39\n",
      "Kurtosis:                       7.721   Cond. No.                         506.\n",
      "==============================================================================\n",
      "\n",
      "Notes:\n",
      "[1] Standard Errors assume that the covariance matrix of the errors is correctly specified.\n"
     ]
    }
   ],
   "source": [
    "#\n",
    "Y = dataframe[\"Ltotcost\"]\n",
    "X = dataframe[[\"Loutput\", \"Lplabor\", \"Lpfuel\", \"Lpkap\"]]\n",
    "X2 = sm.add_constant(X)\n",
    "est = sm.OLS(Y,X2).fit()\n",
    "print(est.summary())"
   ]
  },
  {
   "cell_type": "code",
   "execution_count": 19,
   "metadata": {},
   "outputs": [
    {
     "name": "stdout",
     "output_type": "stream",
     "text": [
      "                            OLS Regression Results                            \n",
      "==============================================================================\n",
      "Dep. Variable:               Ltotcost   R-squared:                       0.926\n",
      "Model:                            OLS   Adj. R-squared:                  0.924\n",
      "Method:                 Least Squares   F-statistic:                     437.7\n",
      "Date:                Mon, 07 Mar 2022   Prob (F-statistic):           4.82e-78\n",
      "Time:                        08:50:40   Log-Likelihood:                -67.542\n",
      "No. Observations:                 145   AIC:                             145.1\n",
      "Df Residuals:                     140   BIC:                             160.0\n",
      "Df Model:                           4                                         \n",
      "Covariance Type:            nonrobust                                         \n",
      "==============================================================================\n",
      "                 coef    std err          t      P>|t|      [0.025      0.975]\n",
      "------------------------------------------------------------------------------\n",
      "One           -3.5265      1.774     -1.987      0.049      -7.035      -0.018\n",
      "Loutput        0.7204      0.017     41.244      0.000       0.686       0.755\n",
      "Lplabor        0.4363      0.291      1.499      0.136      -0.139       1.012\n",
      "Lpfuel         0.4265      0.100      4.249      0.000       0.228       0.625\n",
      "Lpkap         -0.2199      0.339     -0.648      0.518      -0.891       0.451\n",
      "==============================================================================\n",
      "Omnibus:                       51.403   Durbin-Watson:                   1.013\n",
      "Prob(Omnibus):                  0.000   Jarque-Bera (JB):              175.700\n",
      "Skew:                           1.303   Prob(JB):                     7.03e-39\n",
      "Kurtosis:                       7.721   Cond. No.                         506.\n",
      "==============================================================================\n",
      "\n",
      "Notes:\n",
      "[1] Standard Errors assume that the covariance matrix of the errors is correctly specified.\n"
     ]
    }
   ],
   "source": [
    "# # Estimación (FINAL):\n",
    "Y = dataframe[\"Ltotcost\"]\n",
    "X = dataframe[[\"One\",\"Loutput\", \"Lplabor\", \"Lpfuel\", \"Lpkap\"]]\n",
    "est = sm.OLS(Y,X).fit()\n",
    "print(est.summary())"
   ]
  },
  {
   "cell_type": "markdown",
   "metadata": {},
   "source": [
    "Estimadores:\n",
    "$$\\hat{\\boldsymbol \\beta} = (\\mathbf{X'X})^{-1}\\mathbf{X'Y}$$"
   ]
  },
  {
   "cell_type": "code",
   "execution_count": 20,
   "metadata": {},
   "outputs": [
    {
     "data": {
      "text/plain": [
       "One       -3.526503\n",
       "Loutput    0.720394\n",
       "Lplabor    0.436341\n",
       "Lpfuel     0.426517\n",
       "Lpkap     -0.219888\n",
       "dtype: float64"
      ]
     },
     "execution_count": 20,
     "metadata": {},
     "output_type": "execute_result"
    }
   ],
   "source": [
    "#\n",
    "est.params"
   ]
  },
  {
   "cell_type": "markdown",
   "metadata": {},
   "source": [
    "La especificación más común de la prueba de hipótesis en el análisis de regresión es:\n",
    "$$H_0: \\beta_k = 0$$\n",
    "$$H_a: \\beta_k \\neq 0$$\n",
    "\n",
    "Lo que en términos de una prueba $t$ es la siguiente:\n",
    "$$t = \\frac{\\hat{\\beta}_k - 0}{\\sqrt{\\hat{\\sigma}^2 (\\mathbf{X}'\\mathbf{X})^{-1}_{kk}}} \\sim t_{n - k}$$"
   ]
  },
  {
   "cell_type": "code",
   "execution_count": 21,
   "metadata": {},
   "outputs": [
    {
     "data": {
      "text/plain": [
       "One        -1.987471\n",
       "Loutput    41.244483\n",
       "Lplabor     1.499209\n",
       "Lpfuel      4.249483\n",
       "Lpkap      -0.647819\n",
       "dtype: float64"
      ]
     },
     "execution_count": 21,
     "metadata": {},
     "output_type": "execute_result"
    }
   ],
   "source": [
    "#\n",
    "est.tvalues"
   ]
  },
  {
   "cell_type": "markdown",
   "metadata": {},
   "source": [
    "La hipotésis nula de una prueba global se puede escribir como:\n",
    "$$H_0: \\beta_1 = \\beta_2 = \\ldots = \\beta_K = 0$$\n",
    "$$H_a: No H_0$$\n",
    "\n",
    "Esta prueba se le conoce como prueba global, ya que prueba si en conjunto todas las variables independientes tienen un efecto nulo en $\\mathbf{Y}$. Notemos que la prueba implica que la estadística $F$ de prueba será:\n",
    "$$F = \\frac{(\\mathbf{R} \\boldsymbol{\\hat{\\beta}} - \\mathbf{r})'[\\mathbf{R} \\hat{\\sigma}^2 (\\mathbf{X}'\\mathbf{X})^{-1}\\mathbf{R}']^{-1}(\\mathbf{R} \\boldsymbol{\\hat{\\beta}} - \\mathbf{r})}{J} \\sim F_{J, n - K}$$    \n",
    "\n",
    "La matriz $\\mathbf{R}$ y vector $\\mathbf{r}$:\n",
    "$$\\mathbf{R} = \\left[ \n",
    "            \\begin{array}{c c c c}\n",
    "                0 & 0 & \\ldots & 0 \\\\ 0 & 1 & \\ldots & 0 \\\\ 0 & 0 & \\ldots & 0 \\\\ \\vdots & \\vdots & \\cdots & \\vdots \\\\ 0 & 0 & \\ldots & 1 \\\\\n",
    "            \\end{array}\n",
    "            \\right]$$\n",
    "\n",
    "$$\\mathbf{r} = \\left[ \n",
    "            \\begin{array}{c}\n",
    "                0 \\\\ 0 \\\\ 0 \\\\ \\vdots \\\\ 0 \\\\\n",
    "            \\end{array} \n",
    "            \\right]$$\n"
   ]
  },
  {
   "cell_type": "code",
   "execution_count": 22,
   "metadata": {},
   "outputs": [
    {
     "data": {
      "text/plain": [
       "437.68628137228876"
      ]
     },
     "execution_count": 22,
     "metadata": {},
     "output_type": "execute_result"
    }
   ],
   "source": [
    "#\n",
    "est.fvalue"
   ]
  },
  {
   "cell_type": "markdown",
   "metadata": {},
   "source": [
    "Alternativamente:"
   ]
  },
  {
   "cell_type": "code",
   "execution_count": 24,
   "metadata": {},
   "outputs": [
    {
     "data": {
      "text/plain": [
       "array([[0, 0, 0, 0, 0],\n",
       "       [0, 1, 0, 0, 0],\n",
       "       [0, 0, 1, 0, 0],\n",
       "       [0, 0, 0, 1, 0],\n",
       "       [0, 0, 0, 0, 1]])"
      ]
     },
     "execution_count": 24,
     "metadata": {},
     "output_type": "execute_result"
    }
   ],
   "source": [
    "#\n",
    "R = np.array(([0,0,0,0,0], [0,1,0,0,0], [0,0,1,0,0], [0,0,0,1,0], [0,0,0,0,1]))\n",
    "R"
   ]
  },
  {
   "cell_type": "code",
   "execution_count": 25,
   "metadata": {},
   "outputs": [
    {
     "name": "stdout",
     "output_type": "stream",
     "text": [
      "<F test: F=array([[437.68628137]]), p=4.819371284369683e-78, df_denom=140, df_num=4>\n"
     ]
    }
   ],
   "source": [
    "#\n",
    "print(est.f_test(R))"
   ]
  },
  {
   "cell_type": "markdown",
   "metadata": {},
   "source": [
    "En el caso que nos ocupa queremos probar si la suma de los coeficientes asociados los factores productivos es 1, es decir, la función de costos exibe rendimientos constantes a escala:\n",
    "$$H_0: \\beta_3 + \\beta_4 + \\beta_5 = 1$$\n",
    "$$H_1: \\beta_3 + \\beta_4 + \\beta_5 \\neq 1$$\n",
    "\n",
    "Existen dos alternativas para probar la hipótesis. Partamos de que:\n",
    "La matriz $\\mathbf{R}$ y vector $\\mathbf{r}$:\n",
    "$$\\mathbf{R} = \\left[ \n",
    "            \\begin{array}{c c c c c}\n",
    "                0 & 0 & 1 & 1 & 1 \n",
    "            \\end{array}\n",
    "            \\right]$$\n",
    "\n",
    "$$\\mathbf{r} = 1$$\n"
   ]
  },
  {
   "cell_type": "code",
   "execution_count": 26,
   "metadata": {},
   "outputs": [],
   "source": [
    "#\n",
    "formula = 'Ltotcost ~  One + Loutput + Lplabor + Lpfuel + Lpkap'\n",
    "results = ols(formula, dataframe).fit()\n",
    "# Se pueden incluir tantas restricciones queramos, agregando una coma (,) segido de la restricción\n",
    "hypotheses = 'Lplabor + Lpfuel + Lpkap = 1'"
   ]
  },
  {
   "cell_type": "markdown",
   "metadata": {},
   "source": [
    "$$H_0 = \\beta_3 + \\beta_4 + \\beta_5 = 1$$\n",
    "$$H_0 = \\beta_3 + \\beta_4 + \\beta_5 - 1 = 0$$\n",
    "\n",
    "Lo que en términos de una prueba $t$ es la siguiente:\n",
    "$$t = \\frac{\\mathbf{R} \\hat{\\beta} - 1}{\\sqrt{\\hat{\\sigma}^2 R (\\mathbf{X}'\\mathbf{X})^{-1} R'}} \\sim t_{n - k}$$"
   ]
  },
  {
   "cell_type": "code",
   "execution_count": 27,
   "metadata": {},
   "outputs": [
    {
     "name": "stdout",
     "output_type": "stream",
     "text": [
      "                             Test for Constraints                             \n",
      "==============================================================================\n",
      "                 coef    std err          t      P>|t|      [0.025      0.975]\n",
      "------------------------------------------------------------------------------\n",
      "c0             0.6430      0.471     -0.757      0.450      -0.289       1.575\n",
      "==============================================================================\n"
     ]
    }
   ],
   "source": [
    "# 1:\n",
    "t_test = results.t_test(hypotheses)\n",
    "print(t_test)"
   ]
  },
  {
   "cell_type": "markdown",
   "metadata": {},
   "source": [
    "$$F = \\frac{(\\mathbf{R} \\boldsymbol{\\hat{\\beta}} - \\mathbf{1})'[\\mathbf{R} \\hat{\\sigma}^2 (\\mathbf{X}'\\mathbf{X})^{-1}\\mathbf{R}']^{-1}(\\mathbf{R} \\boldsymbol{\\hat{\\beta}} - \\mathbf{1})}{1} \\sim F_{1, n - K}$$    \n"
   ]
  },
  {
   "cell_type": "code",
   "execution_count": 28,
   "metadata": {},
   "outputs": [
    {
     "name": "stdout",
     "output_type": "stream",
     "text": [
      "<F test: F=array([[0.57366053]]), p=0.4500808771656396, df_denom=140, df_num=1>\n"
     ]
    }
   ],
   "source": [
    "# 2:\n",
    "f_test = results.f_test(hypotheses)\n",
    "print(f_test)"
   ]
  },
  {
   "cell_type": "markdown",
   "metadata": {},
   "source": [
    "$$H_0 = \\beta_3 + \\beta_4 + \\beta_5 = 1, \\beta_2 = 0$$\n",
    "$$H_1 = No H_0$$"
   ]
  },
  {
   "cell_type": "code",
   "execution_count": 26,
   "metadata": {},
   "outputs": [
    {
     "name": "stdout",
     "output_type": "stream",
     "text": [
      "<F test: F=array([[851.95263328]]), p=4.238968262667809e-79, df_denom=140, df_num=2>\n"
     ]
    }
   ],
   "source": [
    "# Otro ejemplo: \n",
    "hypotheses_2 = 'Lplabor + Lpfuel + Lpkap = 1, Loutput = 0'\n",
    "f_test = results.f_test(hypotheses_2)\n",
    "print(f_test)"
   ]
  },
  {
   "cell_type": "code",
   "execution_count": 29,
   "metadata": {},
   "outputs": [
    {
     "name": "stdout",
     "output_type": "stream",
     "text": [
      "                            OLS Regression Results                            \n",
      "==============================================================================\n",
      "Dep. Variable:               Ltotcost   R-squared:                       0.926\n",
      "Model:                            OLS   Adj. R-squared:                  0.924\n",
      "Method:                 Least Squares   F-statistic:                     437.7\n",
      "Date:                Mon, 07 Mar 2022   Prob (F-statistic):           4.82e-78\n",
      "Time:                        09:00:00   Log-Likelihood:                -67.542\n",
      "No. Observations:                 145   AIC:                             145.1\n",
      "Df Residuals:                     140   BIC:                             160.0\n",
      "Df Model:                           4                                         \n",
      "Covariance Type:            nonrobust                                         \n",
      "==============================================================================\n",
      "                 coef    std err          t      P>|t|      [0.025      0.975]\n",
      "------------------------------------------------------------------------------\n",
      "One           -3.5265      1.774     -1.987      0.049      -7.035      -0.018\n",
      "Loutput        0.7204      0.017     41.244      0.000       0.686       0.755\n",
      "Lplabor        0.4363      0.291      1.499      0.136      -0.139       1.012\n",
      "Lpfuel         0.4265      0.100      4.249      0.000       0.228       0.625\n",
      "Lpkap         -0.2199      0.339     -0.648      0.518      -0.891       0.451\n",
      "==============================================================================\n",
      "Omnibus:                       51.403   Durbin-Watson:                   1.013\n",
      "Prob(Omnibus):                  0.000   Jarque-Bera (JB):              175.700\n",
      "Skew:                           1.303   Prob(JB):                     7.03e-39\n",
      "Kurtosis:                       7.721   Cond. No.                         506.\n",
      "==============================================================================\n",
      "\n",
      "Notes:\n",
      "[1] Standard Errors assume that the covariance matrix of the errors is correctly specified.\n"
     ]
    }
   ],
   "source": [
    "print(est.summary())"
   ]
  },
  {
   "cell_type": "markdown",
   "metadata": {},
   "source": [
    "## Cómo se ve la curva de costos medios estimados:"
   ]
  },
  {
   "cell_type": "code",
   "execution_count": 30,
   "metadata": {},
   "outputs": [
    {
     "data": {
      "text/html": [
       "<div>\n",
       "<style scoped>\n",
       "    .dataframe tbody tr th:only-of-type {\n",
       "        vertical-align: middle;\n",
       "    }\n",
       "\n",
       "    .dataframe tbody tr th {\n",
       "        vertical-align: top;\n",
       "    }\n",
       "\n",
       "    .dataframe thead th {\n",
       "        text-align: right;\n",
       "    }\n",
       "</style>\n",
       "<table border=\"1\" class=\"dataframe\">\n",
       "  <thead>\n",
       "    <tr style=\"text-align: right;\">\n",
       "      <th></th>\n",
       "      <th>totcost</th>\n",
       "      <th>output</th>\n",
       "      <th>plabor</th>\n",
       "      <th>pfuel</th>\n",
       "      <th>pkap</th>\n",
       "      <th>Ltotcost</th>\n",
       "      <th>Loutput</th>\n",
       "      <th>Lplabor</th>\n",
       "      <th>Lpfuel</th>\n",
       "      <th>Lpkap</th>\n",
       "      <th>avgcost</th>\n",
       "      <th>One</th>\n",
       "      <th>totcost_e</th>\n",
       "      <th>avgcost_e</th>\n",
       "    </tr>\n",
       "  </thead>\n",
       "  <tbody>\n",
       "    <tr>\n",
       "      <th>0</th>\n",
       "      <td>0.082</td>\n",
       "      <td>2.0</td>\n",
       "      <td>2.09</td>\n",
       "      <td>17.900000</td>\n",
       "      <td>183.0</td>\n",
       "      <td>-2.501036</td>\n",
       "      <td>0.693147</td>\n",
       "      <td>0.737164</td>\n",
       "      <td>2.884801</td>\n",
       "      <td>5.209486</td>\n",
       "      <td>0.041000</td>\n",
       "      <td>1</td>\n",
       "      <td>0.072759</td>\n",
       "      <td>0.036380</td>\n",
       "    </tr>\n",
       "    <tr>\n",
       "      <th>1</th>\n",
       "      <td>0.661</td>\n",
       "      <td>3.0</td>\n",
       "      <td>2.05</td>\n",
       "      <td>35.099998</td>\n",
       "      <td>174.0</td>\n",
       "      <td>-0.414001</td>\n",
       "      <td>1.098612</td>\n",
       "      <td>0.717840</td>\n",
       "      <td>3.558201</td>\n",
       "      <td>5.159055</td>\n",
       "      <td>0.220333</td>\n",
       "      <td>1</td>\n",
       "      <td>0.130207</td>\n",
       "      <td>0.043402</td>\n",
       "    </tr>\n",
       "    <tr>\n",
       "      <th>2</th>\n",
       "      <td>0.990</td>\n",
       "      <td>4.0</td>\n",
       "      <td>2.05</td>\n",
       "      <td>35.099998</td>\n",
       "      <td>171.0</td>\n",
       "      <td>-0.010050</td>\n",
       "      <td>1.386294</td>\n",
       "      <td>0.717840</td>\n",
       "      <td>3.558201</td>\n",
       "      <td>5.141664</td>\n",
       "      <td>0.247500</td>\n",
       "      <td>1</td>\n",
       "      <td>0.160805</td>\n",
       "      <td>0.040201</td>\n",
       "    </tr>\n",
       "    <tr>\n",
       "      <th>3</th>\n",
       "      <td>0.315</td>\n",
       "      <td>4.0</td>\n",
       "      <td>1.83</td>\n",
       "      <td>32.200001</td>\n",
       "      <td>166.0</td>\n",
       "      <td>-1.155183</td>\n",
       "      <td>1.386294</td>\n",
       "      <td>0.604316</td>\n",
       "      <td>3.471966</td>\n",
       "      <td>5.111988</td>\n",
       "      <td>0.078750</td>\n",
       "      <td>1</td>\n",
       "      <td>0.148473</td>\n",
       "      <td>0.037118</td>\n",
       "    </tr>\n",
       "    <tr>\n",
       "      <th>4</th>\n",
       "      <td>0.197</td>\n",
       "      <td>5.0</td>\n",
       "      <td>2.12</td>\n",
       "      <td>28.600000</td>\n",
       "      <td>233.0</td>\n",
       "      <td>-1.624552</td>\n",
       "      <td>1.609438</td>\n",
       "      <td>0.751416</td>\n",
       "      <td>3.353407</td>\n",
       "      <td>5.451038</td>\n",
       "      <td>0.039400</td>\n",
       "      <td>1</td>\n",
       "      <td>0.164058</td>\n",
       "      <td>0.032812</td>\n",
       "    </tr>\n",
       "  </tbody>\n",
       "</table>\n",
       "</div>"
      ],
      "text/plain": [
       "   totcost  output  plabor      pfuel   pkap  Ltotcost   Loutput   Lplabor  \\\n",
       "0    0.082     2.0    2.09  17.900000  183.0 -2.501036  0.693147  0.737164   \n",
       "1    0.661     3.0    2.05  35.099998  174.0 -0.414001  1.098612  0.717840   \n",
       "2    0.990     4.0    2.05  35.099998  171.0 -0.010050  1.386294  0.717840   \n",
       "3    0.315     4.0    1.83  32.200001  166.0 -1.155183  1.386294  0.604316   \n",
       "4    0.197     5.0    2.12  28.600000  233.0 -1.624552  1.609438  0.751416   \n",
       "\n",
       "     Lpfuel     Lpkap   avgcost  One  totcost_e  avgcost_e  \n",
       "0  2.884801  5.209486  0.041000    1   0.072759   0.036380  \n",
       "1  3.558201  5.159055  0.220333    1   0.130207   0.043402  \n",
       "2  3.558201  5.141664  0.247500    1   0.160805   0.040201  \n",
       "3  3.471966  5.111988  0.078750    1   0.148473   0.037118  \n",
       "4  3.353407  5.451038  0.039400    1   0.164058   0.032812  "
      ]
     },
     "execution_count": 30,
     "metadata": {},
     "output_type": "execute_result"
    }
   ],
   "source": [
    "# Rcuperamos de la regresión el valor del Log del costo estimado\n",
    "LY_pred = est.predict(X)\n",
    "# Anti-log:\n",
    "Y = np.exp(LY_pred)\n",
    "# Colocamos en el Data Frame:\n",
    "dataframe['totcost_e'] = Y\n",
    "dataframe['avgcost_e'] = dataframe[\"totcost_e\"]/dataframe[\"output\"]\n",
    "dataframe.head()"
   ]
  },
  {
   "cell_type": "code",
   "execution_count": 31,
   "metadata": {},
   "outputs": [
    {
     "data": {
      "image/png": "[encoded data removed]",
      "text/plain": [
       "<Figure size 432x288 with 1 Axes>"
      ]
     },
     "metadata": {},
     "output_type": "display_data"
    }
   ],
   "source": [
    "# graficamos resultados:\n",
    "plt.style.use('seaborn-white')\n",
    "plt.scatter(dataframe.output, dataframe.avgcost, s = 15, color =\"red\")\n",
    "plt.scatter(dataframe.output, dataframe.avgcost_e, s = 15, color =\"blue\")\n",
    "plt.title(\"Gráfico de dispersión Output vs Avg cost / Avg cost estimado\")\n",
    "#\n",
    "plt.show()"
   ]
  },
  {
   "cell_type": "code",
   "execution_count": 32,
   "metadata": {},
   "outputs": [
    {
     "data": {
      "image/png": "[encoded data removed]",
      "text/plain": [
       "<Figure size 432x288 with 1 Axes>"
      ]
     },
     "metadata": {},
     "output_type": "display_data"
    }
   ],
   "source": [
    "# graficamos resultados:\n",
    "plt.scatter(dataframe.Loutput, dataframe.avgcost, s = 15, color =\"red\")\n",
    "plt.scatter(dataframe.Loutput, dataframe.avgcost_e, s = 15, color =\"blue\")\n",
    "plt.title(\"Gráfico de dispersión Output vs Avg cost / Avg cost estimado\")\n",
    "#\n",
    "plt.show()"
   ]
  },
  {
   "cell_type": "markdown",
   "metadata": {},
   "source": [
    "# Ejercicio:\n",
    "\n",
    "Estimar:\n",
    "$$ln(C_i) = \\beta_1 +  \\beta_2 ln(Q_i) + \\beta_2 (ln(Q_i))^2 + \\beta_3 ln(p_{i1}) + \\beta_4 ln(p_{i2}) + \\beta_5 ln(p_{i3}) + \\varepsilon_i$$\n",
    "\n",
    "Probar si:\n",
    "$$H_0: \\beta_3 + \\beta_4 + \\beta_5 = 1$$\n",
    "$$H_1: \\beta_3 + \\beta_4 + \\beta_5 \\neq 1$$\n"
   ]
  },
  {
   "cell_type": "code",
   "execution_count": null,
   "metadata": {},
   "outputs": [],
   "source": [
    "# Read DataFrame:\n",
    "dataframe.head()"
   ]
  },
  {
   "cell_type": "code",
   "execution_count": null,
   "metadata": {},
   "outputs": [],
   "source": [
    "#\n",
    "dataframe[\"Loutput_2\"] = dataframe[\"Loutput\"]**2"
   ]
  },
  {
   "cell_type": "code",
   "execution_count": null,
   "metadata": {},
   "outputs": [],
   "source": [
    "#\n",
    "dataframe.head()"
   ]
  },
  {
   "cell_type": "code",
   "execution_count": null,
   "metadata": {},
   "outputs": [],
   "source": [
    "# Definición de variables:\n",
    "Y = dataframe[\"Ltotcost\"]\n",
    "X = dataframe[[\"One\", ]]\n",
    "#\n",
    "X"
   ]
  },
  {
   "cell_type": "code",
   "execution_count": null,
   "metadata": {},
   "outputs": [],
   "source": [
    "# Estimación:\n",
    "est = sm.OLS(Y,X)\n",
    "est2 = est.fit()\n",
    "print(est2.summary())"
   ]
  },
  {
   "cell_type": "code",
   "execution_count": null,
   "metadata": {},
   "outputs": [],
   "source": [
    "#\n",
    "formula = 'Ltotcost ~  One + '\n",
    "results = ols(formula, dataframe).fit()\n",
    "\n",
    "# Se pueden incluir tantas restricciones queramos, agregando una coma (,) segido de la restricción\n",
    "hypotheses = ' +  +  = 1'\n",
    "t_test = results.t_test(hypotheses)\n",
    "print(t_test)"
   ]
  },
  {
   "cell_type": "code",
   "execution_count": null,
   "metadata": {},
   "outputs": [],
   "source": []
  }
 ],
 "metadata": {
  "kernelspec": {
   "display_name": "Python 3",
   "language": "python",
   "name": "python3"
  },
  "language_info": {
   "codemirror_mode": {
    "name": "ipython",
    "version": 3
   },
   "file_extension": ".py",
   "mimetype": "text/x-python",
   "name": "python",
   "nbconvert_exporter": "python",
   "pygments_lexer": "ipython3",
   "version": "3.7.5"
  }
 },
 "nbformat": 4,
 "nbformat_minor": 2
}
